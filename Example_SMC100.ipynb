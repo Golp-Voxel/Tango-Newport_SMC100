{
 "cells": [
  {
   "cell_type": "code",
   "execution_count": 2,
   "metadata": {},
   "outputs": [],
   "source": [
    "import serial\n",
    "import time\n",
    "from math import floor\n",
    "# Custom Lib \n",
    "import SMC100 "
   ]
  },
  {
   "cell_type": "markdown",
   "metadata": {},
   "source": [
    "# Inicialization of the serial comunciation "
   ]
  },
  {
   "cell_type": "code",
   "execution_count": 4,
   "metadata": {},
   "outputs": [
    {
     "name": "stdout",
     "output_type": "stream",
     "text": [
      "Connecting to SMC100 on COM10\n",
      "[SMC100  sent] 1TS?\n",
      "Before decode: \n",
      "b'1TS00000A\\r\\n'\n",
      "[SMC100  read] 1TS00000A\n",
      "2\n",
      "status:   state: NOT REFERENCED from reset\n",
      "[SMC100  sent] 1OR\n",
      "[SMC100 ] waiting for states ['32', '33', '1E']\n",
      "[SMC100  sent] 1TS?\n",
      "Before decode: \n",
      "b''\n",
      "[SMC100  read] \n",
      "[SMC100  sent] 1TS?\n",
      "Before decode: \n",
      "b''\n",
      "[SMC100  read] \n",
      "[SMC100  sent] 1TS?\n",
      "Before decode: \n",
      "b''\n",
      "[SMC100  read] \n",
      "[SMC100  sent] 1TS?\n",
      "Before decode: \n",
      "b''\n",
      "[SMC100  read] \n",
      "[SMC100  sent] 1TS?\n",
      "Before decode: \n",
      "b''\n",
      "[SMC100  read] \n",
      "[SMC100  sent] 1TS?\n",
      "Before decode: \n",
      "b''\n",
      "[SMC100  read] \n",
      "[SMC100  sent] 1TS?\n",
      "Before decode: \n",
      "b''\n",
      "[SMC100  read] \n",
      "[SMC100  sent] 1TS?\n",
      "Before decode: \n",
      "b''\n",
      "[SMC100  read] \n",
      "[SMC100  sent] 1TS?\n",
      "Before decode: \n",
      "b''\n",
      "[SMC100  read] \n",
      "[SMC100  sent] 1TS?\n",
      "Before decode: \n",
      "b'1TS00001E\\r\\n'\n",
      "[SMC100  read] 1TS00001E\n",
      "2\n",
      "status:   state: HOMING commanded from RS-232-C\n",
      "[SMC100 ] in state 1E\n",
      "[SMC100  sent] 2TS?\n",
      "Before decode: \n",
      "b'2TS008010\\r\\n'\n",
      "[SMC100  read] 2TS008010\n",
      "2\n",
      "status:   state: NOT REFERENCED ESP stage error\n",
      "[SMC100  sent] 2OR\n",
      "[SMC100 ] waiting for states ['32', '33', '1E']\n",
      "[SMC100  sent] 2TS?\n",
      "Before decode: \n",
      "b''\n",
      "[SMC100  read] \n",
      "[SMC100  sent] 2TS?\n",
      "Before decode: \n",
      "b''\n",
      "[SMC100  read] \n",
      "[SMC100  sent] 2TS?\n",
      "Before decode: \n",
      "b''\n",
      "[SMC100  read] \n",
      "[SMC100  sent] 2TS?\n",
      "Before decode: \n",
      "b''\n",
      "[SMC100  read] \n",
      "[SMC100  sent] 2TS?\n",
      "Before decode: \n",
      "b''\n",
      "[SMC100  read] \n",
      "[SMC100  sent] 2TS?\n",
      "Before decode: \n",
      "b''\n",
      "[SMC100  read] \n",
      "[SMC100  sent] 2TS?\n",
      "Before decode: \n",
      "b''\n",
      "[SMC100  read] \n",
      "[SMC100  sent] 2TS?\n",
      "Before decode: \n",
      "b''\n",
      "[SMC100  read] \n",
      "[SMC100  sent] 2TS?\n",
      "Before decode: \n",
      "b''\n",
      "[SMC100  read] \n",
      "[SMC100  sent] 2TS?\n",
      "Before decode: \n",
      "b'2TS00001E\\r\\n'\n",
      "[SMC100  read] 2TS00001E\n",
      "2\n",
      "status:   state: HOMING commanded from RS-232-C\n",
      "[SMC100 ] in state 1E\n",
      "[SMC100  sent] 3TS?\n",
      "Before decode: \n",
      "b'3TS008010\\r\\n'\n",
      "[SMC100  read] 3TS008010\n",
      "2\n",
      "status:   state: NOT REFERENCED ESP stage error\n",
      "[SMC100  sent] 3OR\n",
      "[SMC100 ] waiting for states ['32', '33', '1E']\n",
      "[SMC100  sent] 3TS?\n",
      "Before decode: \n",
      "b''\n",
      "[SMC100  read] \n",
      "[SMC100  sent] 3TS?\n",
      "Before decode: \n",
      "b''\n",
      "[SMC100  read] \n",
      "[SMC100  sent] 3TS?\n",
      "Before decode: \n",
      "b''\n",
      "[SMC100  read] \n",
      "[SMC100  sent] 3TS?\n",
      "Before decode: \n",
      "b''\n",
      "[SMC100  read] \n",
      "[SMC100  sent] 3TS?\n",
      "Before decode: \n",
      "b''\n",
      "[SMC100  read] \n",
      "[SMC100  sent] 3TS?\n",
      "Before decode: \n",
      "b''\n",
      "[SMC100  read] \n",
      "[SMC100  sent] 3TS?\n",
      "Before decode: \n",
      "b''\n",
      "[SMC100  read] \n",
      "[SMC100  sent] 3TS?\n",
      "Before decode: \n",
      "b''\n",
      "[SMC100  read] \n",
      "[SMC100  sent] 3TS?\n",
      "Before decode: \n",
      "b''\n",
      "[SMC100  read] \n",
      "[SMC100  sent] 3TS?\n",
      "Before decode: \n",
      "b'3TS00001E\\r\\n'\n",
      "[SMC100  read] 3TS00001E\n",
      "2\n",
      "status:   state: HOMING commanded from RS-232-C\n",
      "[SMC100 ] in state 1E\n"
     ]
    }
   ],
   "source": [
    "smc100 = SMC100.init_connection('COM10',3)"
   ]
  },
  {
   "cell_type": "markdown",
   "metadata": {},
   "source": [
    "For example,  `smc100.move_relative_mm(1,5,True)` is to command the 1st motor to move 5 mm, the last parameter is True if you want to wait for the end of this command before executing the next one."
   ]
  },
  {
   "cell_type": "code",
   "execution_count": 5,
   "metadata": {},
   "outputs": [
    {
     "name": "stdout",
     "output_type": "stream",
     "text": [
      "[SMC100  sent] 1PR5\n",
      "[SMC100 ] waiting for states ('33', '32')\n",
      "[SMC100  sent] 1TS?\n",
      "Before decode: \n",
      "b'1TS000028\\r\\n'\n",
      "[SMC100  read] 1TS000028\n",
      "2\n",
      "status:   state: MOVING\n",
      "[SMC100  sent] 1TS?\n",
      "Before decode: \n",
      "b'1TS000028\\r\\n'\n",
      "[SMC100  read] 1TS000028\n",
      "2\n",
      "status:   state: MOVING\n",
      "[SMC100  sent] 1TS?\n",
      "Before decode: \n",
      "b'1TS000028\\r\\n'\n",
      "[SMC100  read] 1TS000028\n",
      "2\n",
      "status:   state: MOVING\n",
      "[SMC100  sent] 1TS?\n",
      "Before decode: \n",
      "b'1TS000028\\r\\n'\n",
      "[SMC100  read] 1TS000028\n",
      "2\n",
      "status:   state: MOVING\n",
      "[SMC100  sent] 1TS?\n",
      "Before decode: \n",
      "b'1TS000028\\r\\n'\n",
      "[SMC100  read] 1TS000028\n",
      "2\n",
      "status:   state: MOVING\n",
      "[SMC100  sent] 1TS?\n",
      "Before decode: \n",
      "b'1TS000028\\r\\n'\n",
      "[SMC100  read] 1TS000028\n",
      "2\n",
      "status:   state: MOVING\n",
      "[SMC100  sent] 1TS?\n",
      "Before decode: \n",
      "b'1TS000028\\r\\n'\n",
      "[SMC100  read] 1TS000028\n",
      "2\n",
      "status:   state: MOVING\n",
      "[SMC100  sent] 1TS?\n",
      "Before decode: \n",
      "b'1TS000033\\r\\n'\n",
      "[SMC100  read] 1TS000033\n",
      "2\n",
      "status:   state: READY from MOVING\n",
      "[SMC100 ] in state 33\n"
     ]
    }
   ],
   "source": [
    "smc100.move_relative_mm(1,5,True)"
   ]
  },
  {
   "cell_type": "markdown",
   "metadata": {},
   "source": [
    "In the next example, motors 2 and 3 were sent to 5 mm at the same time, because we did not wait for them to finish moving before sending the next command (since the 3rd argument is `False`)."
   ]
  },
  {
   "cell_type": "code",
   "execution_count": 6,
   "metadata": {},
   "outputs": [
    {
     "name": "stdout",
     "output_type": "stream",
     "text": [
      "[SMC100  sent] 2PR5\n",
      "[SMC100  sent] 3PR5\n"
     ]
    }
   ],
   "source": [
    "smc100.move_relative_mm(2,5,False)\n",
    "smc100.move_relative_mm(3,5,False)"
   ]
  },
  {
   "cell_type": "markdown",
   "metadata": {},
   "source": [
    "You can also ask the controller for a time estimate for a given distance travelled by using function: `smc100.get_motion_time_for_relative_move(ID,move)`."
   ]
  },
  {
   "cell_type": "code",
   "execution_count": null,
   "metadata": {},
   "outputs": [],
   "source": [
    "smc100.get_motion_time_for_relative_move(1,5)"
   ]
  },
  {
   "cell_type": "markdown",
   "metadata": {},
   "source": [
    "This last 2 code block is just in case you want to bring the motor back home before ending the communication with the control unit."
   ]
  },
  {
   "cell_type": "code",
   "execution_count": 9,
   "metadata": {},
   "outputs": [
    {
     "ename": "NameError",
     "evalue": "name 'smc100' is not defined",
     "output_type": "error",
     "traceback": [
      "\u001b[1;31m---------------------------------------------------------------------------\u001b[0m",
      "\u001b[1;31mNameError\u001b[0m                                 Traceback (most recent call last)",
      "Cell \u001b[1;32mIn[9], line 1\u001b[0m\n\u001b[1;32m----> 1\u001b[0m \u001b[43msmc100\u001b[49m\u001b[38;5;241m.\u001b[39mhome(\u001b[38;5;241m1\u001b[39m,\u001b[38;5;28;01mFalse\u001b[39;00m)\n\u001b[0;32m      2\u001b[0m smc100\u001b[38;5;241m.\u001b[39mhome(\u001b[38;5;241m2\u001b[39m,\u001b[38;5;28;01mFalse\u001b[39;00m)\n\u001b[0;32m      3\u001b[0m smc100\u001b[38;5;241m.\u001b[39mhome(\u001b[38;5;241m3\u001b[39m,\u001b[38;5;28;01mFalse\u001b[39;00m)\n",
      "\u001b[1;31mNameError\u001b[0m: name 'smc100' is not defined"
     ]
    }
   ],
   "source": [
    "smc100.home(1,False)\n",
    "smc100.home(2,False)\n",
    "smc100.home(3,False)"
   ]
  },
  {
   "cell_type": "code",
   "execution_count": 8,
   "metadata": {},
   "outputs": [],
   "source": [
    "del smc100"
   ]
  },
  {
   "cell_type": "code",
   "execution_count": null,
   "metadata": {},
   "outputs": [],
   "source": []
  }
 ],
 "metadata": {
  "kernelspec": {
   "display_name": "Python 3 (ipykernel)",
   "language": "python",
   "name": "python3"
  },
  "language_info": {
   "codemirror_mode": {
    "name": "ipython",
    "version": 3
   },
   "file_extension": ".py",
   "mimetype": "text/x-python",
   "name": "python",
   "nbconvert_exporter": "python",
   "pygments_lexer": "ipython3",
   "version": "3.12.2"
  }
 },
 "nbformat": 4,
 "nbformat_minor": 4
}
