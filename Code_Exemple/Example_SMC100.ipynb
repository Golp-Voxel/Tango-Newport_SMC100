{
 "cells": [
  {
   "cell_type": "code",
   "execution_count": 27,
   "metadata": {},
   "outputs": [],
   "source": [
    "import serial\n",
    "import time\n",
    "from math import floor\n",
    "# Custom Lib \n",
    "import SMC100_Lib "
   ]
  },
  {
   "cell_type": "markdown",
   "metadata": {},
   "source": [
    "# Inicialization of the serial comunciation \n",
    "\n",
    "The `init_connection(COM,Number_of _controller,Debug_message=True)` function recives the Comunication bus name (`COM = 'COM10'`) the number of SMC100 controller connected and the Debug_message that by default is active but you can change it by sending the 3rd argument as `False`.\n"
   ]
  },
  {
   "cell_type": "code",
   "execution_count": 33,
   "metadata": {},
   "outputs": [
    {
     "name": "stdout",
     "output_type": "stream",
     "text": [
      "Connecting to SMC100 on COM10\n",
      "[SMC100  sent] 1TS?\n",
      "Before decode: \n",
      "b'1TS00000A\\r\\n'\n",
      "[SMC100  read] 1TS00000A\n",
      "2\n",
      "status:   state: NOT REFERENCED from reset\n",
      "[SMC100  sent] 1OR\n",
      "[SMC100 ] waiting for states ['32', '33', '1E']\n",
      "[SMC100  sent] 1TS?\n",
      "Before decode: \n",
      "b''\n",
      "[SMC100  read] \n",
      "[SMC100  sent] 1TS?\n",
      "Before decode: \n",
      "b''\n",
      "[SMC100  read] \n",
      "[SMC100  sent] 1TS?\n",
      "Before decode: \n",
      "b''\n",
      "[SMC100  read] \n",
      "[SMC100  sent] 1TS?\n",
      "Before decode: \n",
      "b''\n",
      "[SMC100  read] \n",
      "[SMC100  sent] 1TS?\n",
      "Before decode: \n",
      "b''\n",
      "[SMC100  read] \n",
      "[SMC100  sent] 1TS?\n",
      "Before decode: \n",
      "b''\n",
      "[SMC100  read] \n",
      "[SMC100  sent] 1TS?\n",
      "Before decode: \n",
      "b''\n",
      "[SMC100  read] \n",
      "[SMC100  sent] 1TS?\n",
      "Before decode: \n",
      "b''\n",
      "[SMC100  read] \n",
      "[SMC100  sent] 1TS?\n",
      "Before decode: \n",
      "b''\n",
      "[SMC100  read] \n",
      "[SMC100  sent] 1TS?\n",
      "Before decode: \n",
      "b'1TS00001E\\r\\n'\n",
      "[SMC100  read] 1TS00001E\n",
      "2\n",
      "status:   state: HOMING commanded from RS-232-C\n",
      "[SMC100 ] in state 1E\n",
      "[SMC100  sent] 2TS?\n",
      "Before decode: \n",
      "b'2TS008010\\r\\n'\n",
      "[SMC100  read] 2TS008010\n",
      "2\n",
      "status:   state: NOT REFERENCED ESP stage error\n",
      "[SMC100  sent] 2OR\n",
      "[SMC100 ] waiting for states ['32', '33', '1E']\n",
      "[SMC100  sent] 2TS?\n",
      "Before decode: \n",
      "b''\n",
      "[SMC100  read] \n",
      "[SMC100  sent] 2TS?\n",
      "Before decode: \n",
      "b''\n",
      "[SMC100  read] \n",
      "[SMC100  sent] 2TS?\n",
      "Before decode: \n",
      "b''\n",
      "[SMC100  read] \n",
      "[SMC100  sent] 2TS?\n",
      "Before decode: \n",
      "b''\n",
      "[SMC100  read] \n",
      "[SMC100  sent] 2TS?\n",
      "Before decode: \n",
      "b''\n",
      "[SMC100  read] \n",
      "[SMC100  sent] 2TS?\n",
      "Before decode: \n",
      "b''\n",
      "[SMC100  read] \n",
      "[SMC100  sent] 2TS?\n",
      "Before decode: \n",
      "b''\n",
      "[SMC100  read] \n",
      "[SMC100  sent] 2TS?\n",
      "Before decode: \n",
      "b''\n",
      "[SMC100  read] \n",
      "[SMC100  sent] 2TS?\n",
      "Before decode: \n",
      "b''\n",
      "[SMC100  read] \n",
      "[SMC100  sent] 2TS?\n",
      "Before decode: \n",
      "b''\n",
      "[SMC100  read] \n",
      "[SMC100  sent] 2TS?\n",
      "Before decode: \n",
      "b'2TS00001E\\r\\n'\n",
      "[SMC100  read] 2TS00001E\n",
      "2\n",
      "status:   state: HOMING commanded from RS-232-C\n",
      "[SMC100 ] in state 1E\n",
      "[SMC100  sent] 3TS?\n",
      "Before decode: \n",
      "b'3TS008010\\r\\n'\n",
      "[SMC100  read] 3TS008010\n",
      "2\n",
      "status:   state: NOT REFERENCED ESP stage error\n",
      "[SMC100  sent] 3OR\n",
      "[SMC100 ] waiting for states ['32', '33', '1E']\n",
      "[SMC100  sent] 3TS?\n",
      "Before decode: \n",
      "b''\n",
      "[SMC100  read] \n",
      "[SMC100  sent] 3TS?\n",
      "Before decode: \n",
      "b''\n",
      "[SMC100  read] \n",
      "[SMC100  sent] 3TS?\n",
      "Before decode: \n",
      "b''\n",
      "[SMC100  read] \n",
      "[SMC100  sent] 3TS?\n",
      "Before decode: \n",
      "b''\n",
      "[SMC100  read] \n",
      "[SMC100  sent] 3TS?\n",
      "Before decode: \n",
      "b''\n",
      "[SMC100  read] \n",
      "[SMC100  sent] 3TS?\n",
      "Before decode: \n",
      "b''\n",
      "[SMC100  read] \n",
      "[SMC100  sent] 3TS?\n",
      "Before decode: \n",
      "b''\n",
      "[SMC100  read] \n",
      "[SMC100  sent] 3TS?\n",
      "Before decode: \n",
      "b''\n",
      "[SMC100  read] \n",
      "[SMC100  sent] 3TS?\n",
      "Before decode: \n",
      "b''\n",
      "[SMC100  read] \n",
      "[SMC100  sent] 3TS?\n",
      "Before decode: \n",
      "b''\n",
      "[SMC100  read] \n",
      "[SMC100  sent] 3TS?\n",
      "Before decode: \n",
      "b'3TS00001E\\r\\n'\n",
      "[SMC100  read] 3TS00001E\n",
      "2\n",
      "status:   state: HOMING commanded from RS-232-C\n",
      "[SMC100 ] in state 1E\n"
     ]
    }
   ],
   "source": [
    "smc100 = SMC100_Lib.init_connection('COM10',3)"
   ]
  },
  {
   "cell_type": "markdown",
   "metadata": {},
   "source": [
    "For example,  `smc100.move_relative_mm(1,5,True)` is to command the 1st motor to move 5 mm, the last parameter is True if you want to wait for the end of this command before executing the next one."
   ]
  },
  {
   "cell_type": "code",
   "execution_count": 34,
   "metadata": {},
   "outputs": [
    {
     "name": "stdout",
     "output_type": "stream",
     "text": [
      "[SMC100  sent] 1PR5\n",
      "[SMC100 ] waiting for states ('33', '32')\n",
      "[SMC100  sent] 1TS?\n",
      "Before decode: \n",
      "b'1TS000028\\r\\n'\n",
      "[SMC100  read] 1TS000028\n",
      "2\n",
      "status:   state: MOVING\n",
      "[SMC100  sent] 1TS?\n",
      "Before decode: \n",
      "b'1TS000028\\r\\n'\n",
      "[SMC100  read] 1TS000028\n",
      "2\n",
      "status:   state: MOVING\n",
      "[SMC100  sent] 1TS?\n",
      "Before decode: \n",
      "b'1TS000028\\r\\n'\n",
      "[SMC100  read] 1TS000028\n",
      "2\n",
      "status:   state: MOVING\n",
      "[SMC100  sent] 1TS?\n",
      "Before decode: \n",
      "b'1TS000028\\r\\n'\n",
      "[SMC100  read] 1TS000028\n",
      "2\n",
      "status:   state: MOVING\n",
      "[SMC100  sent] 1TS?\n",
      "Before decode: \n",
      "b'1TS000028\\r\\n'\n",
      "[SMC100  read] 1TS000028\n",
      "2\n",
      "status:   state: MOVING\n",
      "[SMC100  sent] 1TS?\n",
      "Before decode: \n",
      "b'1TS000028\\r\\n'\n",
      "[SMC100  read] 1TS000028\n",
      "2\n",
      "status:   state: MOVING\n",
      "[SMC100  sent] 1TS?\n",
      "Before decode: \n",
      "b'1TS000028\\r\\n'\n",
      "[SMC100  read] 1TS000028\n",
      "2\n",
      "status:   state: MOVING\n",
      "[SMC100  sent] 1TS?\n",
      "Before decode: \n",
      "b'1TS000033\\r\\n'\n",
      "[SMC100  read] 1TS000033\n",
      "2\n",
      "status:   state: READY from MOVING\n",
      "[SMC100 ] in state 33\n"
     ]
    }
   ],
   "source": [
    "smc100.move_relative_mm(1,5,True)"
   ]
  },
  {
   "cell_type": "markdown",
   "metadata": {},
   "source": [
    "In the next example, motors 2 and 3 were sent to 5 mm at the same time, because we did not wait for them to finish moving before sending the next command (since the 3rd argument is `False`)."
   ]
  },
  {
   "cell_type": "code",
   "execution_count": 35,
   "metadata": {},
   "outputs": [
    {
     "name": "stdout",
     "output_type": "stream",
     "text": [
      "[SMC100  sent] 2PR5\n",
      "[SMC100  sent] 3PR5\n"
     ]
    }
   ],
   "source": [
    "smc100.move_relative_mm(2,5,False)\n",
    "smc100.move_relative_mm(3,5,False)"
   ]
  },
  {
   "cell_type": "markdown",
   "metadata": {},
   "source": [
    "You can also ask the controller for a time estimate for a given distance travelled by using function: `smc100.get_motion_time_for_relative_move(ID,move)`."
   ]
  },
  {
   "cell_type": "code",
   "execution_count": 36,
   "metadata": {},
   "outputs": [
    {
     "name": "stdout",
     "output_type": "stream",
     "text": [
      "[SMC100  sent] 1PT5\n",
      "Before decode: \n",
      "b'1PT12.64\\r\\n'\n",
      "[SMC100  read] 1PT12.64\n",
      "12.64\n",
      "[SMC100  sent] 2PR5\n",
      "[SMC100  sent] 2PT5\n",
      "Before decode: \n",
      "b'2PT12.64\\r\\n'\n",
      "[SMC100  read] 2PT12.64\n",
      "12.64\n",
      "[SMC100  sent] 3PR5\n"
     ]
    }
   ],
   "source": [
    "smc100.get_motion_time_for_relative_move(1,5)\n",
    "smc100.move_relative_mm(2,5,False)\n",
    "time.sleep(float(smc100.get_motion_time_for_relative_move(2,5)))\n",
    "smc100.move_relative_mm(3,5,False)"
   ]
  },
  {
   "cell_type": "markdown",
   "metadata": {},
   "source": [
    "The `get_status(ID)` function is to ask the status of a particular controller with the `ID` given."
   ]
  },
  {
   "cell_type": "code",
   "execution_count": 37,
   "metadata": {},
   "outputs": [
    {
     "name": "stdout",
     "output_type": "stream",
     "text": [
      "[SMC100  sent] 1TS?\n",
      "Before decode: \n",
      "b'1TS000033\\r\\n'\n",
      "[SMC100  read] 1TS000033\n",
      "2\n",
      "status:   state: READY from MOVING\n"
     ]
    },
    {
     "data": {
      "text/plain": [
       "(0, '33')"
      ]
     },
     "execution_count": 37,
     "metadata": {},
     "output_type": "execute_result"
    }
   ],
   "source": [
    "smc100.get_status(1)"
   ]
  },
  {
   "cell_type": "markdown",
   "metadata": {},
   "source": [
    "It's also possible to move the motor to an absolute value, using the function `move_absolute_mm(ID,position,True)`, where HOME is the 0. This function does not have a time estimation function, so just use the relative one and the `get_position_mm(ID)` function to get the current position and calculate the movement that will be prefromed."
   ]
  },
  {
   "cell_type": "code",
   "execution_count": 43,
   "metadata": {},
   "outputs": [
    {
     "name": "stdout",
     "output_type": "stream",
     "text": [
      "[SMC100  sent] 1PA6\n",
      "[SMC100 ] waiting for states ('33', '32')\n",
      "[SMC100  sent] 1TS?\n",
      "Before decode: \n",
      "b'1TS000028\\r\\n'\n",
      "[SMC100  read] 1TS000028\n",
      "2\n",
      "status:   state: MOVING\n",
      "[SMC100  sent] 1TS?\n",
      "Before decode: \n",
      "b'1TS000028\\r\\n'\n",
      "[SMC100  read] 1TS000028\n",
      "2\n",
      "status:   state: MOVING\n",
      "[SMC100  sent] 1TS?\n",
      "Before decode: \n",
      "b'1TS000028\\r\\n'\n",
      "[SMC100  read] 1TS000028\n",
      "2\n",
      "status:   state: MOVING\n",
      "[SMC100  sent] 1TS?\n",
      "Before decode: \n",
      "b'1TS000028\\r\\n'\n",
      "[SMC100  read] 1TS000028\n",
      "2\n",
      "status:   state: MOVING\n",
      "[SMC100  sent] 1TS?\n",
      "Before decode: \n",
      "b'1TS000028\\r\\n'\n",
      "[SMC100  read] 1TS000028\n",
      "2\n",
      "status:   state: MOVING\n",
      "[SMC100  sent] 1TS?\n",
      "Before decode: \n",
      "b'1TS000028\\r\\n'\n",
      "[SMC100  read] 1TS000028\n",
      "2\n",
      "status:   state: MOVING\n",
      "[SMC100  sent] 1TS?\n",
      "Before decode: \n",
      "b'1TS000033\\r\\n'\n",
      "[SMC100  read] 1TS000033\n",
      "2\n",
      "status:   state: READY from MOVING\n",
      "[SMC100 ] in state 33\n"
     ]
    }
   ],
   "source": [
    "smc100.move_absolute_mm(1,6,True)"
   ]
  },
  {
   "cell_type": "code",
   "execution_count": 44,
   "metadata": {},
   "outputs": [
    {
     "name": "stdout",
     "output_type": "stream",
     "text": [
      "[SMC100  sent] 1TP?\n",
      "Before decode: \n",
      "b'1TP6.00000\\r\\n'\n",
      "[SMC100  read] 1TP6.00000\n",
      "relative movement: \n",
      "-4.0\n",
      "[SMC100  sent] 1PT4.0\n",
      "Before decode: \n",
      "b'1PT10.14\\r\\n'\n",
      "[SMC100  read] 1PT10.14\n",
      "10.14\n",
      "time to sleep: \n",
      "10.14\n",
      "[SMC100  sent] 1PA2\n",
      "[SMC100 ] waiting for states ('33', '32')\n",
      "[SMC100  sent] 1TS?\n",
      "Before decode: \n",
      "b'1TS000028\\r\\n'\n",
      "[SMC100  read] 1TS000028\n",
      "2\n",
      "status:   state: MOVING\n",
      "[SMC100  sent] 1TS?\n",
      "Before decode: \n",
      "b'1TS000028\\r\\n'\n",
      "[SMC100  read] 1TS000028\n",
      "2\n",
      "status:   state: MOVING\n",
      "[SMC100  sent] 1TS?\n",
      "Before decode: \n",
      "b'1TS000028\\r\\n'\n",
      "[SMC100  read] 1TS000028\n",
      "2\n",
      "status:   state: MOVING\n",
      "[SMC100  sent] 1TS?\n",
      "Before decode: \n",
      "b'1TS000028\\r\\n'\n",
      "[SMC100  read] 1TS000028\n",
      "2\n",
      "status:   state: MOVING\n",
      "[SMC100  sent] 1TS?\n",
      "Before decode: \n",
      "b'1TS000028\\r\\n'\n",
      "[SMC100  read] 1TS000028\n",
      "2\n",
      "status:   state: MOVING\n",
      "[SMC100  sent] 1TS?\n",
      "Before decode: \n",
      "b'1TS000028\\r\\n'\n",
      "[SMC100  read] 1TS000028\n",
      "2\n",
      "status:   state: MOVING\n",
      "[SMC100  sent] 1TS?\n",
      "Before decode: \n",
      "b'1TS000033\\r\\n'\n",
      "[SMC100  read] 1TS000033\n",
      "2\n",
      "status:   state: READY from MOVING\n",
      "[SMC100 ] in state 33\n"
     ]
    }
   ],
   "source": [
    "current_position = smc100.get_position_mm(1)\n",
    "absolute_movent = 2\n",
    "print(\"relative movement: \")\n",
    "print(absolute_movent-float(current_position))\n",
    "time_for_move = smc100.get_motion_time_for_relative_move(1,float(current_position)-absolute_movent)\n",
    "print(\"time to sleep: \")\n",
    "print(time_for_move)\n",
    "smc100.move_absolute_mm(1,2,True)\n",
    "time.sleep(float(time_for_move))"
   ]
  },
  {
   "cell_type": "markdown",
   "metadata": {},
   "source": [
    "This last 2 code block is just in case you want to bring the motor back home before ending the communication with the control unit."
   ]
  },
  {
   "cell_type": "code",
   "execution_count": 45,
   "metadata": {},
   "outputs": [
    {
     "name": "stdout",
     "output_type": "stream",
     "text": [
      "[SMC100  sent] 1OR\n",
      "[SMC100  sent] 1PA0.0\n",
      "[SMC100  sent] 2OR\n",
      "[SMC100  sent] 2PA0.0\n",
      "[SMC100  sent] 3OR\n",
      "[SMC100  sent] 3PA0.0\n"
     ]
    }
   ],
   "source": [
    "smc100.home(1,False)\n",
    "smc100.home(2,False)\n",
    "smc100.home(3,False)"
   ]
  },
  {
   "cell_type": "code",
   "execution_count": 46,
   "metadata": {},
   "outputs": [],
   "source": [
    "del smc100"
   ]
  },
  {
   "cell_type": "code",
   "execution_count": null,
   "metadata": {},
   "outputs": [],
   "source": []
  }
 ],
 "metadata": {
  "kernelspec": {
   "display_name": "Python 3 (ipykernel)",
   "language": "python",
   "name": "python3"
  },
  "language_info": {
   "codemirror_mode": {
    "name": "ipython",
    "version": 3
   },
   "file_extension": ".py",
   "mimetype": "text/x-python",
   "name": "python",
   "nbconvert_exporter": "python",
   "pygments_lexer": "ipython3",
   "version": "3.12.2"
  }
 },
 "nbformat": 4,
 "nbformat_minor": 4
}
